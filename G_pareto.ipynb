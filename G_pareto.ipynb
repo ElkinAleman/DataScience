{
  "cells": [
    {
      "cell_type": "markdown",
      "metadata": {
        "id": "view-in-github",
        "colab_type": "text"
      },
      "source": [
        "<a href=\"https://colab.research.google.com/github/ElkinAleman/DataScience/blob/main/G_pareto.ipynb\" target=\"_parent\"><img src=\"https://colab.research.google.com/assets/colab-badge.svg\" alt=\"Open In Colab\"/></a>"
      ]
    },
    {
      "cell_type": "markdown",
      "metadata": {
        "id": "uTWf4Ihak-Zz"
      },
      "source": [
        "# Caso Práctico: Funciones de activación RNAs"
      ]
    },
    {
      "cell_type": "markdown",
      "metadata": {
        "id": "qsE9NuC3k-Z4"
      },
      "source": [
        "### Enunciado y contexto del ejercicio"
      ]
    },
    {
      "cell_type": "markdown",
      "metadata": {
        "id": "RgdRFivnk-Z5"
      },
      "source": [
        "Las funciones de activación se corresponden con una serie de funciones matemáticas que se utilizan en la mayoría de los algoritmos de Deep Learning para realizar transformaciones sobre las entradas que reciben las neuronas artificiales que forman parte de una red neuronal artificial.\n",
        "\n",
        "**En este ejercicio práctico se propone la implementación en Python 3 de tres de las funciones de activación más populares en el diseño de redes neuronales artificiales profundas, las funciones ReLu, Sigmoid y Tanh.**\n",
        "\n",
        "¡Completa todos los apartados que se muestran a continuación para conseguir implementar estas funciones!"
      ]
    },
    {
      "cell_type": "markdown",
      "metadata": {
        "id": "O1jtnFAKk-Z6"
      },
      "source": [
        "### 1. Función de activación ReLu"
      ]
    },
    {
      "cell_type": "markdown",
      "metadata": {
        "id": "EaAf-gOok-Z7"
      },
      "source": [
        "La función de activación [ReLu](https://en.wikipedia.org/wiki/Rectifier_(neural_networks)), viene determinada por la siguiente expresión matemática:"
      ]
    },
    {
      "cell_type": "markdown",
      "metadata": {
        "id": "fSDC8MK1k-Z8"
      },
      "source": [
        "$${\\displaystyle f(x)=\\max(0,x)}$$"
      ]
    },
    {
      "cell_type": "markdown",
      "metadata": {
        "id": "VIWh1q5pk-Z8"
      },
      "source": [
        "<div style=\"background-color:#D9EEFF;color:black;padding:2%;\">\n",
        "Crea una función en Python que calcule el resultado de aplicar la función ReLu sobre una entrada x. Ten en cuenta que x debe ser considerado un valor numérico.\n",
        "</div>"
      ]
    },
    {
      "cell_type": "markdown",
      "metadata": {
        "id": "0mBw8qOxk-Z9"
      },
      "source": [
        "**Pista:** Cuando termines de programar la función, comprueba si el resultado es correcto utilizando la gráfica que se muestra a continuación."
      ]
    },
    {
      "cell_type": "markdown",
      "metadata": {
        "id": "y8aGu51Bk-Z-"
      },
      "source": [
        "**texto en negrita**![image.png](attachment:image.png)\n"
      ]
    },
    {
      "cell_type": "code",
      "execution_count": null,
      "metadata": {
        "id": "do947X5Dk-Z_"
      },
      "outputs": [],
      "source": [
        "def ReLu(x):\n",
        "  f = max(0,x)\n",
        "  return f"
      ]
    },
    {
      "cell_type": "markdown",
      "metadata": {
        "id": "vBdqjZgGk-aB"
      },
      "source": [
        "### 2. Función de activación Sigmoid"
      ]
    },
    {
      "cell_type": "markdown",
      "metadata": {
        "id": "7w49qWLqk-aB"
      },
      "source": [
        "La función de activación [Sigmoid](https://en.wikipedia.org/wiki/Sigmoid_function), viene determinada por la siguiente expresión matemática:"
      ]
    },
    {
      "cell_type": "markdown",
      "metadata": {
        "id": "cgRBdwlxk-aC"
      },
      "source": [
        "$${\\displaystyle f(x)={\\frac {1}{1+e^{-x}}}}$$"
      ]
    },
    {
      "cell_type": "markdown",
      "metadata": {
        "id": "ZFPmHdbek-aC"
      },
      "source": [
        "<div style=\"background-color:#D9EEFF;color:black;padding:2%;\">\n",
        "Crea una función en Python que calcule el resultado de aplicar la función Sigmoid sobre una entrada x. Ten en cuenta que x debe ser considerado un valor numérico.\n",
        "</div>"
      ]
    },
    {
      "cell_type": "markdown",
      "metadata": {
        "id": "ydpPWFlfk-aC"
      },
      "source": [
        "**Pista:** Cuando termines de programar la función, comprueba si el resultado es correcto utilizando la gráfica que se muestra a continuación."
      ]
    },
    {
      "cell_type": "markdown",
      "metadata": {
        "id": "CQAw_tSNk-aC"
      },
      "source": [
        "![image.png](attachment:image.png)"
      ]
    },
    {
      "cell_type": "markdown",
      "metadata": {
        "id": "ltXzo9P4k-aD"
      },
      "source": [
        "**Pista 2**: Como puedes observar en la fórmula anterior, para calcular la función Sigmoid necesitas conocer el valor de la constante de Euler, representada mediante la letra **_e_**. Python no incorpora esta constante por defecto, pero puedes importarla con la sentencia que se muestra a continuación."
      ]
    },
    {
      "cell_type": "code",
      "execution_count": null,
      "metadata": {
        "id": "bdqKUIG6k-aD"
      },
      "outputs": [],
      "source": [
        "from math import e"
      ]
    },
    {
      "cell_type": "code",
      "execution_count": null,
      "metadata": {
        "colab": {
          "base_uri": "https://localhost:8080/"
        },
        "id": "FVx2XH5_k-aE",
        "outputId": "8b611b8e-c009-4960-9046-f94e963ee680"
      },
      "outputs": [
        {
          "output_type": "stream",
          "name": "stdout",
          "text": [
            "2.718281828459045\n"
          ]
        }
      ],
      "source": [
        "print(e)"
      ]
    },
    {
      "cell_type": "code",
      "execution_count": null,
      "metadata": {
        "id": "5HXu3r52k-aE"
      },
      "outputs": [],
      "source": [
        "def sigmoid(x):\n",
        "  f = 1/(1+e**(-x))\n",
        "  return f"
      ]
    },
    {
      "cell_type": "code",
      "execution_count": null,
      "metadata": {
        "colab": {
          "base_uri": "https://localhost:8080/"
        },
        "id": "UuXJmuUYk-aF",
        "outputId": "ad163226-b1dd-4f78-c62e-a22168a95950"
      },
      "outputs": [
        {
          "output_type": "execute_result",
          "data": {
            "text/plain": [
              "0.5"
            ]
          },
          "metadata": {},
          "execution_count": 12
        }
      ],
      "source": [
        "sigmoid(0)"
      ]
    },
    {
      "cell_type": "markdown",
      "metadata": {
        "id": "R5Wwu5vqk-aF"
      },
      "source": [
        "### 3. Función de activación Tanh"
      ]
    },
    {
      "cell_type": "markdown",
      "metadata": {
        "id": "DRGCy06lk-aF"
      },
      "source": [
        "La [función de activación Tanh](https://en.wikipedia.org/wiki/Hyperbolic_functions), viene determinada por la siguiente expresión matemática:"
      ]
    },
    {
      "cell_type": "markdown",
      "metadata": {
        "id": "yr55SkXUk-aH"
      },
      "source": [
        "$$\\tanh(x) = \\frac {\\sinh(x)} {\\cosh(x)}$$"
      ]
    },
    {
      "cell_type": "markdown",
      "metadata": {
        "id": "_xPiAQ89k-aH"
      },
      "source": [
        "Como puedes observar, para implementar la función Tanh, primero tienes que implementar las funciones:"
      ]
    },
    {
      "cell_type": "markdown",
      "metadata": {
        "id": "jujQJSsDk-aH"
      },
      "source": [
        "#### Sinh:\n",
        "$$\\sinh(x) = \\frac {e^{x} - e^{-x}} {2}$$"
      ]
    },
    {
      "cell_type": "markdown",
      "metadata": {
        "id": "y9S-cCRXk-aH"
      },
      "source": [
        "#### Cosh:\n",
        "$$\\cosh(x) = \\frac {e^{x} + e^{-x}} {2}$$"
      ]
    },
    {
      "cell_type": "markdown",
      "metadata": {
        "id": "aq-OEiIak-aI"
      },
      "source": [
        "<div style=\"background-color:#D9EEFF;color:black;padding:2%;\">\n",
        "Crea una función en Python que calcule el resultado de aplicar la función Tanh sobre una entrada x. Ten en cuenta que x debe ser considerado un valor numérico.\n",
        "</div>"
      ]
    },
    {
      "cell_type": "markdown",
      "metadata": {
        "id": "f9g_Gb7kk-aI"
      },
      "source": [
        "**Pista:** Cuando termines de programar la función, comprueba si el resultado es correcto utilizando la gráfica que se muestra a continuación."
      ]
    },
    {
      "cell_type": "markdown",
      "metadata": {
        "id": "PXvq6hJPk-aJ"
      },
      "source": [
        "![image-2.png](attachment:image-2.png)"
      ]
    },
    {
      "cell_type": "markdown",
      "metadata": {
        "id": "xAIfNyHOk-aJ"
      },
      "source": [
        "**Pista 2**: Como puedes observar en la fórmula anterior, para calcular la función Sigmoid necesitas conocer el valor de la constante de Euler, representada mediante la letra **_e_**. Python no incorpora esta constante por defecto, pero puedes importarla con la sentencia que se muestra a continuación."
      ]
    },
    {
      "cell_type": "markdown",
      "source": [
        "# **Gráfico de Pareto**"
      ],
      "metadata": {
        "id": "iDgbRAn8Aurw"
      }
    },
    {
      "cell_type": "markdown",
      "source": [
        "Durante el último trimestre, el área de calidad ha reportado fallas en productos devueltos por clientes. La dirección quiere identificar qué causas generan más impacto para priorizar acciones correctivas.\n",
        "\n",
        "Visualizar las principales causas de fallas en productos devueltos, ordenadas de mayor a menor impacto, y determinar cuáles explican el 80% de los problemas.\n"
      ],
      "metadata": {
        "id": "po5aidtEUBF5"
      }
    },
    {
      "cell_type": "code",
      "execution_count": null,
      "metadata": {
        "colab": {
          "base_uri": "https://localhost:8080/",
          "height": 206
        },
        "id": "sZwwJArWk-aL",
        "outputId": "eb19ba8d-b560-42a0-b609-7767a9b57db5"
      },
      "outputs": [
        {
          "output_type": "execute_result",
          "data": {
            "text/plain": [
              "                             Causa  Frecuencia\n",
              "0                  Falla del motor         120\n",
              "1  Problema en el panel de control          90\n",
              "2           Defecto en el cableado          70\n",
              "3                   Mal ensamblaje          55\n",
              "4               Error del software          45"
            ],
            "text/html": [
              "\n",
              "  <div id=\"df-1274d0b1-e199-44bf-b51f-ac28670668b3\" class=\"colab-df-container\">\n",
              "    <div>\n",
              "<style scoped>\n",
              "    .dataframe tbody tr th:only-of-type {\n",
              "        vertical-align: middle;\n",
              "    }\n",
              "\n",
              "    .dataframe tbody tr th {\n",
              "        vertical-align: top;\n",
              "    }\n",
              "\n",
              "    .dataframe thead th {\n",
              "        text-align: right;\n",
              "    }\n",
              "</style>\n",
              "<table border=\"1\" class=\"dataframe\">\n",
              "  <thead>\n",
              "    <tr style=\"text-align: right;\">\n",
              "      <th></th>\n",
              "      <th>Causa</th>\n",
              "      <th>Frecuencia</th>\n",
              "    </tr>\n",
              "  </thead>\n",
              "  <tbody>\n",
              "    <tr>\n",
              "      <th>0</th>\n",
              "      <td>Falla del motor</td>\n",
              "      <td>120</td>\n",
              "    </tr>\n",
              "    <tr>\n",
              "      <th>1</th>\n",
              "      <td>Problema en el panel de control</td>\n",
              "      <td>90</td>\n",
              "    </tr>\n",
              "    <tr>\n",
              "      <th>2</th>\n",
              "      <td>Defecto en el cableado</td>\n",
              "      <td>70</td>\n",
              "    </tr>\n",
              "    <tr>\n",
              "      <th>3</th>\n",
              "      <td>Mal ensamblaje</td>\n",
              "      <td>55</td>\n",
              "    </tr>\n",
              "    <tr>\n",
              "      <th>4</th>\n",
              "      <td>Error del software</td>\n",
              "      <td>45</td>\n",
              "    </tr>\n",
              "  </tbody>\n",
              "</table>\n",
              "</div>\n",
              "    <div class=\"colab-df-buttons\">\n",
              "\n",
              "  <div class=\"colab-df-container\">\n",
              "    <button class=\"colab-df-convert\" onclick=\"convertToInteractive('df-1274d0b1-e199-44bf-b51f-ac28670668b3')\"\n",
              "            title=\"Convert this dataframe to an interactive table.\"\n",
              "            style=\"display:none;\">\n",
              "\n",
              "  <svg xmlns=\"http://www.w3.org/2000/svg\" height=\"24px\" viewBox=\"0 -960 960 960\">\n",
              "    <path d=\"M120-120v-720h720v720H120Zm60-500h600v-160H180v160Zm220 220h160v-160H400v160Zm0 220h160v-160H400v160ZM180-400h160v-160H180v160Zm440 0h160v-160H620v160ZM180-180h160v-160H180v160Zm440 0h160v-160H620v160Z\"/>\n",
              "  </svg>\n",
              "    </button>\n",
              "\n",
              "  <style>\n",
              "    .colab-df-container {\n",
              "      display:flex;\n",
              "      gap: 12px;\n",
              "    }\n",
              "\n",
              "    .colab-df-convert {\n",
              "      background-color: #E8F0FE;\n",
              "      border: none;\n",
              "      border-radius: 50%;\n",
              "      cursor: pointer;\n",
              "      display: none;\n",
              "      fill: #1967D2;\n",
              "      height: 32px;\n",
              "      padding: 0 0 0 0;\n",
              "      width: 32px;\n",
              "    }\n",
              "\n",
              "    .colab-df-convert:hover {\n",
              "      background-color: #E2EBFA;\n",
              "      box-shadow: 0px 1px 2px rgba(60, 64, 67, 0.3), 0px 1px 3px 1px rgba(60, 64, 67, 0.15);\n",
              "      fill: #174EA6;\n",
              "    }\n",
              "\n",
              "    .colab-df-buttons div {\n",
              "      margin-bottom: 4px;\n",
              "    }\n",
              "\n",
              "    [theme=dark] .colab-df-convert {\n",
              "      background-color: #3B4455;\n",
              "      fill: #D2E3FC;\n",
              "    }\n",
              "\n",
              "    [theme=dark] .colab-df-convert:hover {\n",
              "      background-color: #434B5C;\n",
              "      box-shadow: 0px 1px 3px 1px rgba(0, 0, 0, 0.15);\n",
              "      filter: drop-shadow(0px 1px 2px rgba(0, 0, 0, 0.3));\n",
              "      fill: #FFFFFF;\n",
              "    }\n",
              "  </style>\n",
              "\n",
              "    <script>\n",
              "      const buttonEl =\n",
              "        document.querySelector('#df-1274d0b1-e199-44bf-b51f-ac28670668b3 button.colab-df-convert');\n",
              "      buttonEl.style.display =\n",
              "        google.colab.kernel.accessAllowed ? 'block' : 'none';\n",
              "\n",
              "      async function convertToInteractive(key) {\n",
              "        const element = document.querySelector('#df-1274d0b1-e199-44bf-b51f-ac28670668b3');\n",
              "        const dataTable =\n",
              "          await google.colab.kernel.invokeFunction('convertToInteractive',\n",
              "                                                    [key], {});\n",
              "        if (!dataTable) return;\n",
              "\n",
              "        const docLinkHtml = 'Like what you see? Visit the ' +\n",
              "          '<a target=\"_blank\" href=https://colab.research.google.com/notebooks/data_table.ipynb>data table notebook</a>'\n",
              "          + ' to learn more about interactive tables.';\n",
              "        element.innerHTML = '';\n",
              "        dataTable['output_type'] = 'display_data';\n",
              "        await google.colab.output.renderOutput(dataTable, element);\n",
              "        const docLink = document.createElement('div');\n",
              "        docLink.innerHTML = docLinkHtml;\n",
              "        element.appendChild(docLink);\n",
              "      }\n",
              "    </script>\n",
              "  </div>\n",
              "\n",
              "\n",
              "    <div id=\"df-e50018de-51e9-41e0-99dc-7291008cad2f\">\n",
              "      <button class=\"colab-df-quickchart\" onclick=\"quickchart('df-e50018de-51e9-41e0-99dc-7291008cad2f')\"\n",
              "                title=\"Suggest charts\"\n",
              "                style=\"display:none;\">\n",
              "\n",
              "<svg xmlns=\"http://www.w3.org/2000/svg\" height=\"24px\"viewBox=\"0 0 24 24\"\n",
              "     width=\"24px\">\n",
              "    <g>\n",
              "        <path d=\"M19 3H5c-1.1 0-2 .9-2 2v14c0 1.1.9 2 2 2h14c1.1 0 2-.9 2-2V5c0-1.1-.9-2-2-2zM9 17H7v-7h2v7zm4 0h-2V7h2v10zm4 0h-2v-4h2v4z\"/>\n",
              "    </g>\n",
              "</svg>\n",
              "      </button>\n",
              "\n",
              "<style>\n",
              "  .colab-df-quickchart {\n",
              "      --bg-color: #E8F0FE;\n",
              "      --fill-color: #1967D2;\n",
              "      --hover-bg-color: #E2EBFA;\n",
              "      --hover-fill-color: #174EA6;\n",
              "      --disabled-fill-color: #AAA;\n",
              "      --disabled-bg-color: #DDD;\n",
              "  }\n",
              "\n",
              "  [theme=dark] .colab-df-quickchart {\n",
              "      --bg-color: #3B4455;\n",
              "      --fill-color: #D2E3FC;\n",
              "      --hover-bg-color: #434B5C;\n",
              "      --hover-fill-color: #FFFFFF;\n",
              "      --disabled-bg-color: #3B4455;\n",
              "      --disabled-fill-color: #666;\n",
              "  }\n",
              "\n",
              "  .colab-df-quickchart {\n",
              "    background-color: var(--bg-color);\n",
              "    border: none;\n",
              "    border-radius: 50%;\n",
              "    cursor: pointer;\n",
              "    display: none;\n",
              "    fill: var(--fill-color);\n",
              "    height: 32px;\n",
              "    padding: 0;\n",
              "    width: 32px;\n",
              "  }\n",
              "\n",
              "  .colab-df-quickchart:hover {\n",
              "    background-color: var(--hover-bg-color);\n",
              "    box-shadow: 0 1px 2px rgba(60, 64, 67, 0.3), 0 1px 3px 1px rgba(60, 64, 67, 0.15);\n",
              "    fill: var(--button-hover-fill-color);\n",
              "  }\n",
              "\n",
              "  .colab-df-quickchart-complete:disabled,\n",
              "  .colab-df-quickchart-complete:disabled:hover {\n",
              "    background-color: var(--disabled-bg-color);\n",
              "    fill: var(--disabled-fill-color);\n",
              "    box-shadow: none;\n",
              "  }\n",
              "\n",
              "  .colab-df-spinner {\n",
              "    border: 2px solid var(--fill-color);\n",
              "    border-color: transparent;\n",
              "    border-bottom-color: var(--fill-color);\n",
              "    animation:\n",
              "      spin 1s steps(1) infinite;\n",
              "  }\n",
              "\n",
              "  @keyframes spin {\n",
              "    0% {\n",
              "      border-color: transparent;\n",
              "      border-bottom-color: var(--fill-color);\n",
              "      border-left-color: var(--fill-color);\n",
              "    }\n",
              "    20% {\n",
              "      border-color: transparent;\n",
              "      border-left-color: var(--fill-color);\n",
              "      border-top-color: var(--fill-color);\n",
              "    }\n",
              "    30% {\n",
              "      border-color: transparent;\n",
              "      border-left-color: var(--fill-color);\n",
              "      border-top-color: var(--fill-color);\n",
              "      border-right-color: var(--fill-color);\n",
              "    }\n",
              "    40% {\n",
              "      border-color: transparent;\n",
              "      border-right-color: var(--fill-color);\n",
              "      border-top-color: var(--fill-color);\n",
              "    }\n",
              "    60% {\n",
              "      border-color: transparent;\n",
              "      border-right-color: var(--fill-color);\n",
              "    }\n",
              "    80% {\n",
              "      border-color: transparent;\n",
              "      border-right-color: var(--fill-color);\n",
              "      border-bottom-color: var(--fill-color);\n",
              "    }\n",
              "    90% {\n",
              "      border-color: transparent;\n",
              "      border-bottom-color: var(--fill-color);\n",
              "    }\n",
              "  }\n",
              "</style>\n",
              "\n",
              "      <script>\n",
              "        async function quickchart(key) {\n",
              "          const quickchartButtonEl =\n",
              "            document.querySelector('#' + key + ' button');\n",
              "          quickchartButtonEl.disabled = true;  // To prevent multiple clicks.\n",
              "          quickchartButtonEl.classList.add('colab-df-spinner');\n",
              "          try {\n",
              "            const charts = await google.colab.kernel.invokeFunction(\n",
              "                'suggestCharts', [key], {});\n",
              "          } catch (error) {\n",
              "            console.error('Error during call to suggestCharts:', error);\n",
              "          }\n",
              "          quickchartButtonEl.classList.remove('colab-df-spinner');\n",
              "          quickchartButtonEl.classList.add('colab-df-quickchart-complete');\n",
              "        }\n",
              "        (() => {\n",
              "          let quickchartButtonEl =\n",
              "            document.querySelector('#df-e50018de-51e9-41e0-99dc-7291008cad2f button');\n",
              "          quickchartButtonEl.style.display =\n",
              "            google.colab.kernel.accessAllowed ? 'block' : 'none';\n",
              "        })();\n",
              "      </script>\n",
              "    </div>\n",
              "\n",
              "    </div>\n",
              "  </div>\n"
            ],
            "application/vnd.google.colaboratory.intrinsic+json": {
              "type": "dataframe",
              "variable_name": "df",
              "summary": "{\n  \"name\": \"df\",\n  \"rows\": 8,\n  \"fields\": [\n    {\n      \"column\": \"Causa\",\n      \"properties\": {\n        \"dtype\": \"string\",\n        \"num_unique_values\": 8,\n        \"samples\": [\n          \"Problema en el panel de control\",\n          \"Fuga de agua\",\n          \"Falla del motor\"\n        ],\n        \"semantic_type\": \"\",\n        \"description\": \"\"\n      }\n    },\n    {\n      \"column\": \"Frecuencia\",\n      \"properties\": {\n        \"dtype\": \"number\",\n        \"std\": 36,\n        \"min\": 15,\n        \"max\": 120,\n        \"num_unique_values\": 8,\n        \"samples\": [\n          90,\n          30,\n          120\n        ],\n        \"semantic_type\": \"\",\n        \"description\": \"\"\n      }\n    }\n  ]\n}"
            }
          },
          "metadata": {},
          "execution_count": 5
        }
      ],
      "source": [
        "\n",
        "# Datos reales simulados: causas de devolución y frecuencia en el trimestre\n",
        "data = {\n",
        "    'Causa': [\n",
        "        'Falla del motor',\n",
        "        'Problema en el panel de control',\n",
        "        'Defecto en el cableado',\n",
        "        'Mal ensamblaje',\n",
        "        'Error del software',\n",
        "        'Fuga de agua',\n",
        "        'Daño en empaque',\n",
        "        'Sensor defectuoso'\n",
        "    ],\n",
        "    'Frecuencia': [120, 90, 70, 55, 45, 30, 20, 15]\n",
        "}\n",
        "\n",
        "# Crear DataFrame y calcular porcentajes\n",
        "df = pd.DataFrame(data)\n",
        "df.head()\n"
      ]
    },
    {
      "cell_type": "code",
      "source": [
        "df = df.sort_values(by='Frecuencia', ascending=False)\n",
        "df['% del total'] = 100 * df['Frecuencia'] / df['Frecuencia'].sum()\n",
        "df['% acumulado'] = df['% del total'].cumsum()\n",
        "df.head()"
      ],
      "metadata": {
        "colab": {
          "base_uri": "https://localhost:8080/",
          "height": 206
        },
        "id": "JcU1AaH3Ueca",
        "outputId": "538cad00-647f-48c6-a5c6-3af1f07ba7f6"
      },
      "execution_count": null,
      "outputs": [
        {
          "output_type": "execute_result",
          "data": {
            "text/plain": [
              "                             Causa  Frecuencia  % del total  % acumulado\n",
              "0                  Falla del motor         120    26.966292    26.966292\n",
              "1  Problema en el panel de control          90    20.224719    47.191011\n",
              "2           Defecto en el cableado          70    15.730337    62.921348\n",
              "3                   Mal ensamblaje          55    12.359551    75.280899\n",
              "4               Error del software          45    10.112360    85.393258"
            ],
            "text/html": [
              "\n",
              "  <div id=\"df-d2aa235b-ce06-48d0-b077-6c44f7d8ef16\" class=\"colab-df-container\">\n",
              "    <div>\n",
              "<style scoped>\n",
              "    .dataframe tbody tr th:only-of-type {\n",
              "        vertical-align: middle;\n",
              "    }\n",
              "\n",
              "    .dataframe tbody tr th {\n",
              "        vertical-align: top;\n",
              "    }\n",
              "\n",
              "    .dataframe thead th {\n",
              "        text-align: right;\n",
              "    }\n",
              "</style>\n",
              "<table border=\"1\" class=\"dataframe\">\n",
              "  <thead>\n",
              "    <tr style=\"text-align: right;\">\n",
              "      <th></th>\n",
              "      <th>Causa</th>\n",
              "      <th>Frecuencia</th>\n",
              "      <th>% del total</th>\n",
              "      <th>% acumulado</th>\n",
              "    </tr>\n",
              "  </thead>\n",
              "  <tbody>\n",
              "    <tr>\n",
              "      <th>0</th>\n",
              "      <td>Falla del motor</td>\n",
              "      <td>120</td>\n",
              "      <td>26.966292</td>\n",
              "      <td>26.966292</td>\n",
              "    </tr>\n",
              "    <tr>\n",
              "      <th>1</th>\n",
              "      <td>Problema en el panel de control</td>\n",
              "      <td>90</td>\n",
              "      <td>20.224719</td>\n",
              "      <td>47.191011</td>\n",
              "    </tr>\n",
              "    <tr>\n",
              "      <th>2</th>\n",
              "      <td>Defecto en el cableado</td>\n",
              "      <td>70</td>\n",
              "      <td>15.730337</td>\n",
              "      <td>62.921348</td>\n",
              "    </tr>\n",
              "    <tr>\n",
              "      <th>3</th>\n",
              "      <td>Mal ensamblaje</td>\n",
              "      <td>55</td>\n",
              "      <td>12.359551</td>\n",
              "      <td>75.280899</td>\n",
              "    </tr>\n",
              "    <tr>\n",
              "      <th>4</th>\n",
              "      <td>Error del software</td>\n",
              "      <td>45</td>\n",
              "      <td>10.112360</td>\n",
              "      <td>85.393258</td>\n",
              "    </tr>\n",
              "  </tbody>\n",
              "</table>\n",
              "</div>\n",
              "    <div class=\"colab-df-buttons\">\n",
              "\n",
              "  <div class=\"colab-df-container\">\n",
              "    <button class=\"colab-df-convert\" onclick=\"convertToInteractive('df-d2aa235b-ce06-48d0-b077-6c44f7d8ef16')\"\n",
              "            title=\"Convert this dataframe to an interactive table.\"\n",
              "            style=\"display:none;\">\n",
              "\n",
              "  <svg xmlns=\"http://www.w3.org/2000/svg\" height=\"24px\" viewBox=\"0 -960 960 960\">\n",
              "    <path d=\"M120-120v-720h720v720H120Zm60-500h600v-160H180v160Zm220 220h160v-160H400v160Zm0 220h160v-160H400v160ZM180-400h160v-160H180v160Zm440 0h160v-160H620v160ZM180-180h160v-160H180v160Zm440 0h160v-160H620v160Z\"/>\n",
              "  </svg>\n",
              "    </button>\n",
              "\n",
              "  <style>\n",
              "    .colab-df-container {\n",
              "      display:flex;\n",
              "      gap: 12px;\n",
              "    }\n",
              "\n",
              "    .colab-df-convert {\n",
              "      background-color: #E8F0FE;\n",
              "      border: none;\n",
              "      border-radius: 50%;\n",
              "      cursor: pointer;\n",
              "      display: none;\n",
              "      fill: #1967D2;\n",
              "      height: 32px;\n",
              "      padding: 0 0 0 0;\n",
              "      width: 32px;\n",
              "    }\n",
              "\n",
              "    .colab-df-convert:hover {\n",
              "      background-color: #E2EBFA;\n",
              "      box-shadow: 0px 1px 2px rgba(60, 64, 67, 0.3), 0px 1px 3px 1px rgba(60, 64, 67, 0.15);\n",
              "      fill: #174EA6;\n",
              "    }\n",
              "\n",
              "    .colab-df-buttons div {\n",
              "      margin-bottom: 4px;\n",
              "    }\n",
              "\n",
              "    [theme=dark] .colab-df-convert {\n",
              "      background-color: #3B4455;\n",
              "      fill: #D2E3FC;\n",
              "    }\n",
              "\n",
              "    [theme=dark] .colab-df-convert:hover {\n",
              "      background-color: #434B5C;\n",
              "      box-shadow: 0px 1px 3px 1px rgba(0, 0, 0, 0.15);\n",
              "      filter: drop-shadow(0px 1px 2px rgba(0, 0, 0, 0.3));\n",
              "      fill: #FFFFFF;\n",
              "    }\n",
              "  </style>\n",
              "\n",
              "    <script>\n",
              "      const buttonEl =\n",
              "        document.querySelector('#df-d2aa235b-ce06-48d0-b077-6c44f7d8ef16 button.colab-df-convert');\n",
              "      buttonEl.style.display =\n",
              "        google.colab.kernel.accessAllowed ? 'block' : 'none';\n",
              "\n",
              "      async function convertToInteractive(key) {\n",
              "        const element = document.querySelector('#df-d2aa235b-ce06-48d0-b077-6c44f7d8ef16');\n",
              "        const dataTable =\n",
              "          await google.colab.kernel.invokeFunction('convertToInteractive',\n",
              "                                                    [key], {});\n",
              "        if (!dataTable) return;\n",
              "\n",
              "        const docLinkHtml = 'Like what you see? Visit the ' +\n",
              "          '<a target=\"_blank\" href=https://colab.research.google.com/notebooks/data_table.ipynb>data table notebook</a>'\n",
              "          + ' to learn more about interactive tables.';\n",
              "        element.innerHTML = '';\n",
              "        dataTable['output_type'] = 'display_data';\n",
              "        await google.colab.output.renderOutput(dataTable, element);\n",
              "        const docLink = document.createElement('div');\n",
              "        docLink.innerHTML = docLinkHtml;\n",
              "        element.appendChild(docLink);\n",
              "      }\n",
              "    </script>\n",
              "  </div>\n",
              "\n",
              "\n",
              "    <div id=\"df-95af39bc-93f6-4109-afc7-9990b92bbc8a\">\n",
              "      <button class=\"colab-df-quickchart\" onclick=\"quickchart('df-95af39bc-93f6-4109-afc7-9990b92bbc8a')\"\n",
              "                title=\"Suggest charts\"\n",
              "                style=\"display:none;\">\n",
              "\n",
              "<svg xmlns=\"http://www.w3.org/2000/svg\" height=\"24px\"viewBox=\"0 0 24 24\"\n",
              "     width=\"24px\">\n",
              "    <g>\n",
              "        <path d=\"M19 3H5c-1.1 0-2 .9-2 2v14c0 1.1.9 2 2 2h14c1.1 0 2-.9 2-2V5c0-1.1-.9-2-2-2zM9 17H7v-7h2v7zm4 0h-2V7h2v10zm4 0h-2v-4h2v4z\"/>\n",
              "    </g>\n",
              "</svg>\n",
              "      </button>\n",
              "\n",
              "<style>\n",
              "  .colab-df-quickchart {\n",
              "      --bg-color: #E8F0FE;\n",
              "      --fill-color: #1967D2;\n",
              "      --hover-bg-color: #E2EBFA;\n",
              "      --hover-fill-color: #174EA6;\n",
              "      --disabled-fill-color: #AAA;\n",
              "      --disabled-bg-color: #DDD;\n",
              "  }\n",
              "\n",
              "  [theme=dark] .colab-df-quickchart {\n",
              "      --bg-color: #3B4455;\n",
              "      --fill-color: #D2E3FC;\n",
              "      --hover-bg-color: #434B5C;\n",
              "      --hover-fill-color: #FFFFFF;\n",
              "      --disabled-bg-color: #3B4455;\n",
              "      --disabled-fill-color: #666;\n",
              "  }\n",
              "\n",
              "  .colab-df-quickchart {\n",
              "    background-color: var(--bg-color);\n",
              "    border: none;\n",
              "    border-radius: 50%;\n",
              "    cursor: pointer;\n",
              "    display: none;\n",
              "    fill: var(--fill-color);\n",
              "    height: 32px;\n",
              "    padding: 0;\n",
              "    width: 32px;\n",
              "  }\n",
              "\n",
              "  .colab-df-quickchart:hover {\n",
              "    background-color: var(--hover-bg-color);\n",
              "    box-shadow: 0 1px 2px rgba(60, 64, 67, 0.3), 0 1px 3px 1px rgba(60, 64, 67, 0.15);\n",
              "    fill: var(--button-hover-fill-color);\n",
              "  }\n",
              "\n",
              "  .colab-df-quickchart-complete:disabled,\n",
              "  .colab-df-quickchart-complete:disabled:hover {\n",
              "    background-color: var(--disabled-bg-color);\n",
              "    fill: var(--disabled-fill-color);\n",
              "    box-shadow: none;\n",
              "  }\n",
              "\n",
              "  .colab-df-spinner {\n",
              "    border: 2px solid var(--fill-color);\n",
              "    border-color: transparent;\n",
              "    border-bottom-color: var(--fill-color);\n",
              "    animation:\n",
              "      spin 1s steps(1) infinite;\n",
              "  }\n",
              "\n",
              "  @keyframes spin {\n",
              "    0% {\n",
              "      border-color: transparent;\n",
              "      border-bottom-color: var(--fill-color);\n",
              "      border-left-color: var(--fill-color);\n",
              "    }\n",
              "    20% {\n",
              "      border-color: transparent;\n",
              "      border-left-color: var(--fill-color);\n",
              "      border-top-color: var(--fill-color);\n",
              "    }\n",
              "    30% {\n",
              "      border-color: transparent;\n",
              "      border-left-color: var(--fill-color);\n",
              "      border-top-color: var(--fill-color);\n",
              "      border-right-color: var(--fill-color);\n",
              "    }\n",
              "    40% {\n",
              "      border-color: transparent;\n",
              "      border-right-color: var(--fill-color);\n",
              "      border-top-color: var(--fill-color);\n",
              "    }\n",
              "    60% {\n",
              "      border-color: transparent;\n",
              "      border-right-color: var(--fill-color);\n",
              "    }\n",
              "    80% {\n",
              "      border-color: transparent;\n",
              "      border-right-color: var(--fill-color);\n",
              "      border-bottom-color: var(--fill-color);\n",
              "    }\n",
              "    90% {\n",
              "      border-color: transparent;\n",
              "      border-bottom-color: var(--fill-color);\n",
              "    }\n",
              "  }\n",
              "</style>\n",
              "\n",
              "      <script>\n",
              "        async function quickchart(key) {\n",
              "          const quickchartButtonEl =\n",
              "            document.querySelector('#' + key + ' button');\n",
              "          quickchartButtonEl.disabled = true;  // To prevent multiple clicks.\n",
              "          quickchartButtonEl.classList.add('colab-df-spinner');\n",
              "          try {\n",
              "            const charts = await google.colab.kernel.invokeFunction(\n",
              "                'suggestCharts', [key], {});\n",
              "          } catch (error) {\n",
              "            console.error('Error during call to suggestCharts:', error);\n",
              "          }\n",
              "          quickchartButtonEl.classList.remove('colab-df-spinner');\n",
              "          quickchartButtonEl.classList.add('colab-df-quickchart-complete');\n",
              "        }\n",
              "        (() => {\n",
              "          let quickchartButtonEl =\n",
              "            document.querySelector('#df-95af39bc-93f6-4109-afc7-9990b92bbc8a button');\n",
              "          quickchartButtonEl.style.display =\n",
              "            google.colab.kernel.accessAllowed ? 'block' : 'none';\n",
              "        })();\n",
              "      </script>\n",
              "    </div>\n",
              "\n",
              "    </div>\n",
              "  </div>\n"
            ],
            "application/vnd.google.colaboratory.intrinsic+json": {
              "type": "dataframe",
              "variable_name": "df",
              "summary": "{\n  \"name\": \"df\",\n  \"rows\": 8,\n  \"fields\": [\n    {\n      \"column\": \"Causa\",\n      \"properties\": {\n        \"dtype\": \"string\",\n        \"num_unique_values\": 8,\n        \"samples\": [\n          \"Problema en el panel de control\",\n          \"Fuga de agua\",\n          \"Falla del motor\"\n        ],\n        \"semantic_type\": \"\",\n        \"description\": \"\"\n      }\n    },\n    {\n      \"column\": \"Frecuencia\",\n      \"properties\": {\n        \"dtype\": \"number\",\n        \"std\": 36,\n        \"min\": 15,\n        \"max\": 120,\n        \"num_unique_values\": 8,\n        \"samples\": [\n          90,\n          30,\n          120\n        ],\n        \"semantic_type\": \"\",\n        \"description\": \"\"\n      }\n    },\n    {\n      \"column\": \"% del total\",\n      \"properties\": {\n        \"dtype\": \"number\",\n        \"std\": 8.156438850668351,\n        \"min\": 3.3707865168539324,\n        \"max\": 26.96629213483146,\n        \"num_unique_values\": 8,\n        \"samples\": [\n          20.224719101123597,\n          6.741573033707865,\n          26.96629213483146\n        ],\n        \"semantic_type\": \"\",\n        \"description\": \"\"\n      }\n    },\n    {\n      \"column\": \"% acumulado\",\n      \"properties\": {\n        \"dtype\": \"number\",\n        \"std\": 25.90717060253359,\n        \"min\": 26.96629213483146,\n        \"max\": 100.0,\n        \"num_unique_values\": 8,\n        \"samples\": [\n          47.19101123595506,\n          92.13483146067416,\n          26.96629213483146\n        ],\n        \"semantic_type\": \"\",\n        \"description\": \"\"\n      }\n    }\n  ]\n}"
            }
          },
          "metadata": {},
          "execution_count": 6
        }
      ]
    },
    {
      "cell_type": "code",
      "execution_count": null,
      "metadata": {
        "colab": {
          "base_uri": "https://localhost:8080/",
          "height": 645
        },
        "id": "MPdB1XnVk-aL",
        "outputId": "a5b78d3b-5c84-45e9-937c-71c88f8daed4"
      },
      "outputs": [
        {
          "output_type": "stream",
          "name": "stderr",
          "text": [
            "<ipython-input-4-859557dba974>:7: UserWarning: set_ticklabels() should only be used with a fixed number of ticks, i.e. after set_ticks() or using a FixedLocator.\n",
            "  ax1.set_xticklabels(df['Causa'], rotation=45, ha='right')\n"
          ]
        },
        {
          "output_type": "display_data",
          "data": {
            "text/plain": [
              "<Figure size 1200x600 with 2 Axes>"
            ],
            "image/png": "[encoded data removed]"
          },
          "metadata": {}
        }
      ],
      "source": [
        "\n",
        "fig, ax1 = plt.subplots(figsize=(12, 6))\n",
        "\n",
        "# Barras\n",
        "ax1.bar(df['Causa'], df['Frecuencia'], color='skyblue')\n",
        "ax1.set_ylabel('Número de fallas', color='blue')\n",
        "ax1.tick_params(axis='y', labelcolor='blue')\n",
        "ax1.set_xticklabels(df['Causa'], rotation=45, ha='right')\n",
        "\n",
        "# Línea: porcentaje acumulado\n",
        "ax2 = ax1.twinx()\n",
        "ax2.plot(df['Causa'], df['% acumulado'], color='red', marker='o')\n",
        "ax2.set_ylabel('% Acumulado', color='red')\n",
        "ax2.tick_params(axis='y', labelcolor='red')\n",
        "ax2.set_ylim(0, 110)\n",
        "\n",
        "# Línea de referencia 80%\n",
        "ax2.axhline(80, color='gray', linestyle='--')\n",
        "# Línea vertical en el punto donde se alcanza el 80%\n",
        "for i, val in enumerate(df['% acumulado']):\n",
        "    if val >= 80:\n",
        "        ax2.axvline(x=i, color='gray', linestyle='--')\n",
        "        break\n",
        "\n",
        "plt.title('Gráfico de Pareto - Causas de Devolución de Productos')\n",
        "plt.grid(axis='y', linestyle='--', alpha=0.7)\n",
        "plt.tight_layout()\n",
        "plt.show()\n"
      ]
    },
    {
      "cell_type": "markdown",
      "source": [
        "El gráfico revela que tres causas principales —Falla del motor, Problema en el panel de control y Defecto en el cableado— representan más del 75% de las devoluciones totales.\n",
        "Si sumamos la cuarta causa (Mal ensamblaje), se supera el 80% del impacto total.\n",
        "\n",
        "Si se enfoca los recursos de calidad en estas 3-4 causas prioritarias, podemos reducir significativamente las devoluciones."
      ],
      "metadata": {
        "id": "14Vkb3MfULnt"
      }
    }
  ],
  "metadata": {
    "kernelspec": {
      "display_name": "Python 3",
      "language": "python",
      "name": "python3"
    },
    "language_info": {
      "codemirror_mode": {
        "name": "ipython",
        "version": 3
      },
      "file_extension": ".py",
      "mimetype": "text/x-python",
      "name": "python",
      "nbconvert_exporter": "python",
      "pygments_lexer": "ipython3",
      "version": "3.8.5"
    },
    "colab": {
      "provenance": [],
      "include_colab_link": true
    }
  },
  "nbformat": 4,
  "nbformat_minor": 0
}